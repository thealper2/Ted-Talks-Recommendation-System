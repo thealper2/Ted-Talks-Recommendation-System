{
 "cells": [
  {
   "cell_type": "code",
   "execution_count": 17,
   "id": "6b42c9ec",
   "metadata": {},
   "outputs": [],
   "source": [
    "import numpy as np\n",
    "import pandas as pd\n",
    "import pickle\n",
    "import re\n",
    "from sklearn.feature_extraction.text import TfidfVectorizer\n",
    "from sklearn.metrics.pairwise import cosine_similarity"
   ]
  },
  {
   "cell_type": "code",
   "execution_count": 18,
   "id": "a47dece8",
   "metadata": {},
   "outputs": [],
   "source": [
    "df = pd.read_csv(\"transcripts.csv\")"
   ]
  },
  {
   "cell_type": "code",
   "execution_count": 25,
   "id": "7a060667",
   "metadata": {},
   "outputs": [],
   "source": [
    "def url_text_extraction(text):\n",
    "    text = text.split(\"/\")[-1]\n",
    "    text = text.replace(\"_\", \" \")\n",
    "    text = re.sub(r\"\\n\", \"\", text)\n",
    "    text = text.upper()\n",
    "    return text"
   ]
  },
  {
   "cell_type": "code",
   "execution_count": 26,
   "id": "54bad39e",
   "metadata": {},
   "outputs": [],
   "source": [
    "df[\"url\"] = df[\"url\"].apply(url_text_extraction)"
   ]
  },
  {
   "cell_type": "code",
   "execution_count": 28,
   "id": "fd7882c1",
   "metadata": {},
   "outputs": [],
   "source": [
    "transcripts = df[\"transcript\"].tolist()"
   ]
  },
  {
   "cell_type": "code",
   "execution_count": 29,
   "id": "5364d1ae",
   "metadata": {},
   "outputs": [],
   "source": [
    "tfidf = TfidfVectorizer(stop_words=\"english\")"
   ]
  },
  {
   "cell_type": "code",
   "execution_count": 30,
   "id": "fb739b60",
   "metadata": {},
   "outputs": [],
   "source": [
    "uni_matrix = tfidf.fit_transform(transcripts)"
   ]
  },
  {
   "cell_type": "code",
   "execution_count": 31,
   "id": "3b0df7c3",
   "metadata": {},
   "outputs": [],
   "source": [
    "cos_sim = cosine_similarity(uni_matrix)"
   ]
  },
  {
   "cell_type": "code",
   "execution_count": 32,
   "id": "02716bb2",
   "metadata": {},
   "outputs": [],
   "source": [
    "def recommend_talks(url, n=5):\n",
    "    url_index = df[df[\"url\"] == url].index[0]\n",
    "    url_similarities = cos_sim[url_index]\n",
    "    top_indices = url_similarities.argsort()[::-1][1:n+1]\n",
    "    recommended_talks = [df[\"url\"].loc[i] for i in top_indices]\n",
    "    return recommended_talks"
   ]
  },
  {
   "cell_type": "code",
   "execution_count": 33,
   "id": "7e77939d",
   "metadata": {},
   "outputs": [],
   "source": [
    "user = \"KEN ROBINSON SAYS SCHOOLS KILL CREATIVITY\"\n",
    "recommended_talks = recommend_talks(user, 5)"
   ]
  },
  {
   "cell_type": "code",
   "execution_count": 34,
   "id": "420d0475",
   "metadata": {},
   "outputs": [
    {
     "name": "stdout",
     "output_type": "stream",
     "text": [
      "Recommended:\n",
      "- KEN ROBINSON HOW TO ESCAPE EDUCATION S DEATH VALLEY\n",
      "- SIR KEN ROBINSON BRING ON THE REVOLUTION\n",
      "- SAKENA YACOOBI HOW I STOPPED THE TALIBAN FROM SHUTTING DOWN MY SCHOOL\n",
      "- RORY BREMNER S ONE MAN WORLD SUMMIT\n",
      "- RICARDO SEMLER HOW TO RUN A COMPANY WITH ALMOST NO RULES\n"
     ]
    }
   ],
   "source": [
    "print(\"Recommended:\")\n",
    "for talk in recommended_talks:\n",
    "    print(\"- \" + talk)"
   ]
  },
  {
   "cell_type": "code",
   "execution_count": null,
   "id": "9b48d3ac",
   "metadata": {},
   "outputs": [],
   "source": []
  }
 ],
 "metadata": {
  "kernelspec": {
   "display_name": "Python 3 (ipykernel)",
   "language": "python",
   "name": "python3"
  },
  "language_info": {
   "codemirror_mode": {
    "name": "ipython",
    "version": 3
   },
   "file_extension": ".py",
   "mimetype": "text/x-python",
   "name": "python",
   "nbconvert_exporter": "python",
   "pygments_lexer": "ipython3",
   "version": "3.8.16"
  }
 },
 "nbformat": 4,
 "nbformat_minor": 5
}
